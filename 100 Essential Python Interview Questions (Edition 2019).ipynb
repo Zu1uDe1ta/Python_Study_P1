{
 "cells": [
  {
   "cell_type": "markdown",
   "metadata": {},
   "source": [
    "### Q-1: What is Python, what are the benefits of using it, and what do you understand of PEP 8?\n",
    "\n",
    "Python is one of the most successful interpreted languages. When you write a Python script, it doesn’t need to get compiled before execution. Few other interpreted languages are PHP and Javascript.\n",
    "\n",
    "Benefits of Python Programming\n",
    "\n",
    "Python is a dynamic-typed language. It means that you don’t need to mention the data type of variables during their declaration. It allows to set variables like var1=101 and var2 =” You are an engineer.” without any error.\n",
    "Python supports object orientated programming as you can define classes along with the composition and inheritance. It doesn’t use access specifiers like public or private).\n",
    "Functions in Python are like first-class objects. It suggests you can assign them to variables, return from other methods and pass as arguments.\n",
    "Developing using Python is quick but running it is often slower than compiled languages. Luckily, Python enables to include the “C” language extensions so you can optimize your scripts.\n",
    "Python has several usages like web-based applications, test automation, data modeling, big data analytics and much more. Alternatively, you can utilize it as a “glue” layer to work with other languages.\n",
    "PEP 8.\n",
    "\n",
    "PEP 8 is the latest Python coding standard, a set of coding recommendations. It guides to deliver more readable Python code"
   ]
  },
  {
   "cell_type": "markdown",
   "metadata": {},
   "source": [
    "### Q-2: What is the output of the following Python code fragment? Justify your answer."
   ]
  },
  {
   "cell_type": "code",
   "execution_count": 2,
   "metadata": {},
   "outputs": [
    {
     "name": "stdout",
     "output_type": "stream",
     "text": [
      "list1 = [10, 'a']\n",
      "list2 = [123]\n",
      "list3 = [10, 'a']\n"
     ]
    }
   ],
   "source": [
    "# A FUNCTION THAT PASSES TWO VARIABLES AS ARGUMENTS, A VALUE AND A LIST\n",
    "# TAKES THE LIST AND APPENDS THE VALUE PASSED AND RETURNS THE LIST\n",
    "def extendList(val, list=[]):\n",
    "    list.append(val)\n",
    "    return list\n",
    "\n",
    "list1 = extendList(10)\n",
    "list2 = extendList(123,[])\n",
    "list3 = extendList('a')\n",
    "# => list1\n",
    "# => list2\n",
    "# => list3\n",
    "print(\"list1 = %s\" % list1)\n",
    "print(\"list2 = %s\" % list2)\n",
    "print(\"list3 = %s\" % list3)"
   ]
  },
  {
   "cell_type": "markdown",
   "metadata": {},
   "source": [
    "You may erroneously expect list1 to be equal to [10] and list3 to match with [‘a’], thinking that the list argument will initialize to its default value of [] every time there is a call to the extendList.\n",
    "\n",
    "However, the flow is like that a new list gets created once after the function is defined. And the same get used whenever someone calls the extendList method without a list argument. It works like this because the calculation of expressions (in default arguments) occurs at the time of function definition, not during its invocation.\n",
    "\n",
    "The list1 and list3 are hence operating on the same default list, whereas list2 is running on a separate object that it has created on its own (by passing an empty list as the value of the list parameter).\n",
    "\n",
    "The definition of the extendList function can get changed in the following manner."
   ]
  },
  {
   "cell_type": "code",
   "execution_count": 5,
   "metadata": {},
   "outputs": [
    {
     "name": "stdout",
     "output_type": "stream",
     "text": [
      "list1 = [10]\n",
      "list2 = [123]\n",
      "list3 = ['a']\n"
     ]
    }
   ],
   "source": [
    "def extendList(val, list=None):\n",
    "  if list is None:\n",
    "    list = []\n",
    "  list.append(val)\n",
    "  return list\n",
    "\n",
    "list1 = extendList(10)\n",
    "list2 = extendList(123,[])\n",
    "list3 = extendList('a')\n",
    "\n",
    "print(\"list1 = %s\" % list1)\n",
    "print(\"list2 = %s\" % list2)\n",
    "print(\"list3 = %s\" % list3)"
   ]
  },
  {
   "cell_type": "markdown",
   "metadata": {},
   "source": [
    "### Q-3: What is the statement that can be used in Python if the program requires no action but requires it syntactically?\n",
    "\n",
    "The pass statement is a null operation. Nothing happens when it executes. You should use “pass” keyword in lowercase. If you write “Pass,” you’ll face an error like “NameError: name Pass is not defined.” Python statements are case sensitive."
   ]
  },
  {
   "cell_type": "code",
   "execution_count": 6,
   "metadata": {},
   "outputs": [
    {
     "name": "stdout",
     "output_type": "stream",
     "text": [
      "h\n",
      "pass statement is execute ..............\n",
      "i\n",
      " \n",
      "s\n",
      "e\n",
      "t\n",
      "h\n",
      "u\n",
      "r\n",
      "pass statement is execute ..............\n",
      "m\n",
      "pass statement is execute ..............\n",
      "n\n"
     ]
    }
   ],
   "source": [
    "letter = \"hai sethuraman\"\n",
    "for i in letter:\n",
    "    if i == \"a\":\n",
    "        pass\n",
    "        print(\"pass statement is execute ..............\")\n",
    "    else:\n",
    "        print(i)"
   ]
  },
  {
   "cell_type": "markdown",
   "metadata": {},
   "source": [
    "### Q-4: What’s the process to get the home directory using ‘~’ in Python?\n",
    "\n",
    "You need to import the os module, and then just a single line would do the rest."
   ]
  },
  {
   "cell_type": "code",
   "execution_count": 7,
   "metadata": {},
   "outputs": [
    {
     "name": "stdout",
     "output_type": "stream",
     "text": [
      "/Users/cchavez\n"
     ]
    }
   ],
   "source": [
    "import os\n",
    "print (os.path.expanduser('~'))"
   ]
  },
  {
   "cell_type": "markdown",
   "metadata": {},
   "source": [
    "### Q-5: What are the built-in types available in Python?\n",
    "\n",
    "Here is the list of most commonly used built-in types that Python supports:\n",
    "\n",
    "Immutable built-in datatypes of Python\n",
    "Numbers\n",
    "Strings\n",
    "Tuples\n",
    "Mutable built-in datatypes of Python\n",
    "List\n",
    "Dictionaries\n",
    "Sets"
   ]
  },
  {
   "cell_type": "code",
   "execution_count": null,
   "metadata": {},
   "outputs": [],
   "source": []
  }
 ],
 "metadata": {
  "kernelspec": {
   "display_name": "Python 3",
   "language": "python",
   "name": "python3"
  },
  "language_info": {
   "codemirror_mode": {
    "name": "ipython",
    "version": 3
   },
   "file_extension": ".py",
   "mimetype": "text/x-python",
   "name": "python",
   "nbconvert_exporter": "python",
   "pygments_lexer": "ipython3",
   "version": "3.7.6"
  }
 },
 "nbformat": 4,
 "nbformat_minor": 4
}
