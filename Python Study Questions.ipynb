{
 "cells": [
  {
   "cell_type": "markdown",
   "metadata": {},
   "source": [
    "### 1) What is Python? What are the benefits of using Python?\n",
    "\n",
    "- Python is a programming language with objects, modules, threads, exceptions and automatic memory management. \n",
    "- The benefits of python are that it is simple and easy, portable, extensible, build-in data structure and it is an open source.\n"
   ]
  },
  {
   "cell_type": "markdown",
   "metadata": {},
   "source": [
    "### 2) What is PEP 8?\n",
    "\n",
    "- PEP 8 is a coding convention, a set of recommendation, about how to write your Python code more readable.\n"
   ]
  },
  {
   "cell_type": "markdown",
   "metadata": {},
   "source": [
    "### 3) What is pickling and unpickling?\n",
    "\n",
    "- Pickle module accepts any Python object and converts it into a string representation and dumps it into a file by using dump function, this process is called pickling. \n",
    "- While the process of retrieving original Python objects from the stored string representation is called unpickling."
   ]
  },
  {
   "cell_type": "markdown",
   "metadata": {},
   "source": [
    "### 4) How is Python interpreted?\n",
    "\n",
    "- Python language is an interpreted language. \n",
    "- Python program runs directly from the source code. \n",
    "- It converts the source code that is written by the programmer into an intermediate language, which is again translated into machine language that has to be executed."
   ]
  },
  {
   "cell_type": "markdown",
   "metadata": {},
   "source": [
    "### 5) How memory is managed in Python?\n",
    "\n",
    "- Python memory is managed by Python private heap space. \n",
    "- All Python objects and data structures are located in a private heap. \n",
    "- The programmer does not have an access to this private heap and interpreter takes care of this Python private heap.\n",
    "- The allocation of Python heap space for Python objects is done by Python memory manager. The core API gives access to some tools for the programmer to code.\n",
    "- Python also have an inbuilt garbage collector, which recycle all the unused memory and frees the memory and makes it available to the heap space."
   ]
  },
  {
   "cell_type": "markdown",
   "metadata": {},
   "source": [
    "### 6) What are the tools that help to find bugs or perform static analysis?\n",
    "\n",
    "- PyChecker is a static analysis tool that detects the bugs in Python source code and warns about the style and complexity of the bug. \n",
    "- Pylint is another tool that verifies whether the module meets the coding standard."
   ]
  },
  {
   "cell_type": "markdown",
   "metadata": {},
   "source": [
    "### 7) What are Python decorators?\n",
    "\n",
    "A Python decorator is a specific change that we make in Python syntax to alter functions easily."
   ]
  },
  {
   "cell_type": "markdown",
   "metadata": {},
   "source": [
    "### 8) What is the difference between list and tuple?\n",
    "\n",
    "The difference between list and tuple is that list is mutable while tuple is not. Tuple can be hashed for e.g as a key for dictionaries."
   ]
  },
  {
   "cell_type": "markdown",
   "metadata": {},
   "source": [
    "### 9) How are arguments passed by value or by reference?\n",
    "\n",
    "- Everything in Python is an object and all variables hold references to the objects. \n",
    "- The references values are according to the functions; as a result you cannot change the value of the references. - However, you can change the objects if it is mutable."
   ]
  },
  {
   "cell_type": "markdown",
   "metadata": {},
   "source": [
    "### 10) What are Dict and List comprehensions?\n",
    "\n",
    "They are syntax constructions to ease the creation of a Dictionary or List based on existing iterable."
   ]
  },
  {
   "cell_type": "markdown",
   "metadata": {},
   "source": [
    "### 11) What are the built-in type does python provides?\n",
    "\n",
    "There are mutable and Immutable types of Pythons built in types Mutable built-in types\n",
    "- List\n",
    "- Sets\n",
    "- Dictionaries\n",
    "\n",
    "Immutable built-in types\n",
    "- Strings\n",
    "- Tuples\n",
    "- Numbers"
   ]
  },
  {
   "cell_type": "markdown",
   "metadata": {},
   "source": [
    "### 12) What is namespace in Python?\n",
    "\n",
    "- In Python, every name introduced has a place where it lives and can be hooked for. \n",
    "- This is known as namespace. It is like a box where a variable name is mapped to the object placed. \n",
    "- Whenever the variable is searched out, this box will be searched, to get corresponding object."
   ]
  },
  {
   "cell_type": "markdown",
   "metadata": {},
   "source": [
    "### 13) What is lambda in Python?\n",
    "\n",
    "It is a single expression anonymous function often used as inline function."
   ]
  },
  {
   "cell_type": "markdown",
   "metadata": {},
   "source": [
    "### 14) Why lambda forms in python does not have statements?\n",
    "\n",
    "A lambda form in python does not have statements as it is used to make new function object and then return them at runtime.\n",
    "\n"
   ]
  },
  {
   "cell_type": "markdown",
   "metadata": {},
   "source": [
    "### 15) What is pass in Python?\n",
    "\n",
    "Pass means, no-operation Python statement, or in other words it is a place holder in compound statement, where there should be a blank left and nothing has to be written there."
   ]
  },
  {
   "cell_type": "markdown",
   "metadata": {},
   "source": [
    "### 16) In Python what are iterators?\n",
    "\n",
    "In Python, iterators are used to iterate a group of elements, containers like list."
   ]
  },
  {
   "cell_type": "markdown",
   "metadata": {},
   "source": [
    "### 17) What is unittest in Python?\n",
    "\n",
    "A unit testing framework in Python is known as unittest. It supports sharing of setups, automation testing, shutdown code for tests, aggregation of tests into collections etc."
   ]
  },
  {
   "cell_type": "markdown",
   "metadata": {},
   "source": [
    "### 18) In Python what is slicing?\n",
    "\n",
    "A mechanism to select a range of items from sequence types like list, tuple, strings etc. is known as slicing."
   ]
  },
  {
   "cell_type": "markdown",
   "metadata": {},
   "source": [
    "### 19) What are generators in Python?\n",
    "\n",
    "The way of implementing iterators are known as generators. It is a normal function except that it yields expression in the function."
   ]
  },
  {
   "cell_type": "markdown",
   "metadata": {},
   "source": [
    "### 20) What is docstring in Python?\n",
    "\n",
    "A Python documentation string is known as docstring, it is a way of documenting Python functions, modules and classes."
   ]
  },
  {
   "cell_type": "markdown",
   "metadata": {},
   "source": [
    "### 21) How can you copy an object in Python?\n",
    "\n",
    "To copy an object in Python, you can try copy.copy () or copy.deepcopy() for the general case. You cannot copy all objects but most of them."
   ]
  },
  {
   "cell_type": "markdown",
   "metadata": {},
   "source": [
    "### 22) What is negative index in Python?\n",
    "\n",
    "Python sequences can be index in positive and negative numbers. For positive index, 0 is the first index, 1 is the second index and so forth. For negative index, (-1) is the last index and (-2) is the second last index and so forth."
   ]
  },
  {
   "cell_type": "markdown",
   "metadata": {},
   "source": [
    "### 23) How you can convert a number to a string?\n",
    "\n",
    "In order to convert a number into a string, use the inbuilt function str(). If you want a octal or hexadecimal representation, use the inbuilt function oct() or hex()."
   ]
  },
  {
   "cell_type": "markdown",
   "metadata": {},
   "source": [
    "### 24) What is the difference between Xrange and range?\n",
    "\n",
    "Xrange returns the xrange object while range returns the list, and uses the same memory and no matter what the range size is."
   ]
  },
  {
   "cell_type": "markdown",
   "metadata": {},
   "source": [
    "### 25) What is module and package in Python?\n",
    "\n",
    "In Python, module is the way to structure program. Each Python program file is a module, which imports other modules like objects and attributes.\n",
    "\n",
    "The folder of Python program is a package of modules. A package can have modules or subfolders."
   ]
  },
  {
   "cell_type": "markdown",
   "metadata": {},
   "source": [
    "### 26) Mention what are the rules for local and global variables in Python?\n",
    "\n",
    "Local variables: If a variable is assigned a new value anywhere within the function's body, it's assumed to be local."
   ]
  },
  {
   "cell_type": "markdown",
   "metadata": {},
   "source": [
    "### 27) How can you share global variables across modules?\n",
    "\n",
    "To share global variables across modules within a single program, create a special module. Import the config module in all modules of your application. The module will be available as a global variable across modules."
   ]
  },
  {
   "cell_type": "markdown",
   "metadata": {},
   "source": [
    "### 28) Explain how can you make a Python Script executable on Unix?\n",
    "\n",
    "To make a Python Script executable on Unix, you need to do two things,\n",
    "\n",
    "Script file's mode must be executable and\n",
    "the first line must begin with # ( #!/usr/local/bin/python)"
   ]
  },
  {
   "cell_type": "markdown",
   "metadata": {},
   "source": [
    "### 29) Explain how to delete a file in Python?\n",
    "\n",
    "By using a command os.remove (filename) or os.unlink(filename)"
   ]
  },
  {
   "cell_type": "markdown",
   "metadata": {},
   "source": [
    "### 30) Explain how can you generate random numbers in Python?\n",
    "\n",
    "To generate random numbers in Python, you need to import command as\n",
    "\n",
    "import random\n",
    "\n",
    "random.random()\n",
    "\n",
    "This returns a random floating point number in the range [0,1)"
   ]
  },
  {
   "cell_type": "markdown",
   "metadata": {},
   "source": [
    "31) Explain how can you access a module written in Python from C?\n",
    "\n",
    "You can access a module written in Python from C by following method,\n",
    "\n",
    "Module = =PyImport_ImportModule(\"<modulename>\");"
   ]
  },
  {
   "cell_type": "markdown",
   "metadata": {},
   "source": [
    "### 32) Mention the use of // operator in Python?\n",
    "\n",
    "It is a Floor Divisionoperator , which is used for dividing two operands with the result as quotient showing only digits before the decimal point. For instance, 10//5 = 2 and 10.0//5.0 = 2.0."
   ]
  },
  {
   "cell_type": "markdown",
   "metadata": {},
   "source": [
    "### 33) Mention five benefits of using Python?\n",
    "\n",
    "- Python comprises of a huge standard library for most Internet platforms like Email, HTML, etc.\n",
    "- Python does not require explicit memory management as the interpreter itself allocates the memory to new variables and free them automatically\n",
    "- Provide easy readability due to use of square brackets\n",
    "- Easy-to-learn for beginners\n",
    "- Having the built-in data types saves programming time and effort from declaring variables"
   ]
  },
  {
   "cell_type": "markdown",
   "metadata": {},
   "source": [
    "### 34) Mention the use of the split function in Python?\n",
    "\n",
    "The use of the split function in Python is that it breaks a string into shorter strings using the defined separator. It gives a list of all words present in the string."
   ]
  },
  {
   "cell_type": "markdown",
   "metadata": {},
   "source": [
    "### 35) Explain what is Flask & its benefits?\n",
    "\n",
    "Flask is a web micro framework for Python based on \"Werkzeug, Jinja 2 and good intentions\" BSD licensed. Werkzeug and jingja are two of its dependencies.\n",
    "\n",
    "Flask is part of the micro-framework. Which means it will have little to no dependencies on external libraries. It makes the framework light while there is little dependency to update and less security bugs.\n",
    "\n",
    "Werkzeug is a comprehensive WSGI web application library. It began as a simple collection of various utilities for WSGI applications and has become one of the most advanced WSGI utility libraries.\n",
    "\n",
    "Flask wraps Werkzeug, using it to handle the details of WSGI while providing more structure and patterns for defining powerful applications.\n",
    "\n",
    "WSGI is the Web Server Gateway Interface. It is a specification that describes how a web server communicates with web applications, and how web applications can be chained together to process one request.\n",
    "\n",
    "Jinja is a web template engine for the Python programming language. It was created by Armin Ronacher and is licensed under a BSD License. Jinja is similar to the Django template engine but provides Python-like expressions while ensuring that the templates are evaluated in a sandbox. It is a text-based template language and thus can be used to generate any markup as well as source code."
   ]
  },
  {
   "cell_type": "markdown",
   "metadata": {},
   "source": [
    "### 36) Mention what is the difference between Django, Pyramid, and Flask?\n",
    "\n",
    "Flask is a \"microframework\" primarily build for a small application with simpler requirements. In flask, you don't have to use external libraries. Flask is ready to use.\n",
    "\n",
    "Pyramid are build for larger applications. It provides flexibility and lets the developer use the right tools for their project. The developer can choose the database, URL structure, templating style and more. Pyramid is heavy configurable.\n",
    "\n",
    "Like Pyramid, Django can also used for larger applications. It includes an ORM.\n",
    "\n",
    "ORM: Object-relational mapping (ORM, O/RM, and O/R mapping tool) in computer science is a programming technique for converting data between incompatible type systems using object-oriented programming languages. This creates, in effect, a \"virtual object database\" that can be used from within the programming language."
   ]
  },
  {
   "cell_type": "markdown",
   "metadata": {},
   "source": [
    "37) Mention what is Flask-WTF and what are their features?\n",
    "\n",
    "Flask-WTF offers simple integration with WTForms. Features include for Flask WTF are\n",
    "\n",
    "Integration with wtforms\n",
    "Secure form with csrf token\n",
    "Global csrf protection\n",
    "Internationalization integration\n",
    "Recaptcha supporting\n",
    "File upload that works with Flask Uploads"
   ]
  },
  {
   "cell_type": "markdown",
   "metadata": {},
   "source": [
    "### 38) Explain what is the common way for the Flask script to work?\n",
    "\n",
    "The common way for the flask script to work is\n",
    "\n",
    "Either it should be the import path for your application\n",
    "Or the path to a Python file"
   ]
  },
  {
   "cell_type": "markdown",
   "metadata": {},
   "source": [
    "### 39) Explain how you can access sessions in Flask?\n",
    "\n",
    "A session basically allows you to remember information from one request to another. In a flask, it uses a signed cookie so the user can look at the session contents and modify. The user can modify the session if only it has the secret key Flask.secret_key."
   ]
  },
  {
   "cell_type": "markdown",
   "metadata": {},
   "source": [
    "40) Is Flask an MVC model and if yes give an example showing MVC pattern for your application?\n",
    "\n",
    "Basically, Flask is a minimalistic framework which behaves same as MVC framework. So MVC is a perfect fit for Flask, and the pattern for MVC we will consider for the following example"
   ]
  },
  {
   "cell_type": "markdown",
   "metadata": {},
   "source": []
  },
  {
   "cell_type": "markdown",
   "metadata": {},
   "source": []
  },
  {
   "cell_type": "markdown",
   "metadata": {},
   "source": []
  },
  {
   "cell_type": "markdown",
   "metadata": {},
   "source": []
  },
  {
   "cell_type": "code",
   "execution_count": null,
   "metadata": {},
   "outputs": [],
   "source": []
  },
  {
   "cell_type": "code",
   "execution_count": null,
   "metadata": {},
   "outputs": [],
   "source": []
  },
  {
   "cell_type": "code",
   "execution_count": null,
   "metadata": {},
   "outputs": [],
   "source": []
  }
 ],
 "metadata": {
  "kernelspec": {
   "display_name": "Python 3",
   "language": "python",
   "name": "python3"
  },
  "language_info": {
   "codemirror_mode": {
    "name": "ipython",
    "version": 3
   },
   "file_extension": ".py",
   "mimetype": "text/x-python",
   "name": "python",
   "nbconvert_exporter": "python",
   "pygments_lexer": "ipython3",
   "version": "3.7.6"
  }
 },
 "nbformat": 4,
 "nbformat_minor": 4
}
