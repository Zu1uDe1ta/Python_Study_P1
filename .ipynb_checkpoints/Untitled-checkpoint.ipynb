{
 "cells": [
  {
   "cell_type": "markdown",
   "metadata": {},
   "source": [
    "### 1) What is Python? What are the benefits of using Python?\n",
    "\n",
    "- Python is a programming language with objects, modules, threads, exceptions and automatic memory management. \n",
    "- The benefits of python are that it is simple and easy, portable, extensible, build-in data structure and it is an open source.\n"
   ]
  },
  {
   "cell_type": "markdown",
   "metadata": {},
   "source": [
    "### 2) What is PEP 8?\n",
    "\n",
    "- PEP 8 is a coding convention, a set of recommendation, about how to write your Python code more readable.\n"
   ]
  },
  {
   "cell_type": "markdown",
   "metadata": {},
   "source": [
    "### 3) What is pickling and unpickling?\n",
    "\n",
    "- Pickle module accepts any Python object and converts it into a string representation and dumps it into a file by using dump function, this process is called pickling. \n",
    "- While the process of retrieving original Python objects from the stored string representation is called unpickling."
   ]
  },
  {
   "cell_type": "markdown",
   "metadata": {},
   "source": [
    "### 4) How is Python interpreted?\n",
    "\n",
    "- Python language is an interpreted language. \n",
    "- Python program runs directly from the source code. \n",
    "- It converts the source code that is written by the programmer into an intermediate language, which is again translated into machine language that has to be executed."
   ]
  },
  {
   "cell_type": "markdown",
   "metadata": {},
   "source": [
    "### 5) How memory is managed in Python?\n",
    "\n",
    "- Python memory is managed by Python private heap space. \n",
    "- All Python objects and data structures are located in a private heap. \n",
    "- The programmer does not have an access to this private heap and interpreter takes care of this Python private heap.\n",
    "- The allocation of Python heap space for Python objects is done by Python memory manager. The core API gives access to some tools for the programmer to code.\n",
    "- Python also have an inbuilt garbage collector, which recycle all the unused memory and frees the memory and makes it available to the heap space."
   ]
  }
 ],
 "metadata": {
  "kernelspec": {
   "display_name": "Python 3",
   "language": "python",
   "name": "python3"
  },
  "language_info": {
   "codemirror_mode": {
    "name": "ipython",
    "version": 3
   },
   "file_extension": ".py",
   "mimetype": "text/x-python",
   "name": "python",
   "nbconvert_exporter": "python",
   "pygments_lexer": "ipython3",
   "version": "3.7.6"
  }
 },
 "nbformat": 4,
 "nbformat_minor": 4
}
