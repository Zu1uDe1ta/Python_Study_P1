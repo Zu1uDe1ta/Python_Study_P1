{
 "cells": [
  {
   "cell_type": "markdown",
   "metadata": {},
   "source": [
    "### 1) What is Python? What are the benefits of using Python?\n",
    "\n",
    "- Python is a programming language with objects, modules, threads, exceptions and automatic memory management. \n",
    "- The benefits of python are that it is simple and easy, portable, extensible, build-in data structure and it is an open source.\n"
   ]
  },
  {
   "cell_type": "markdown",
   "metadata": {},
   "source": [
    "### 2) What is PEP 8?\n",
    "\n",
    "- PEP 8 is a coding convention, a set of recommendation, about how to write your Python code more readable.\n"
   ]
  },
  {
   "cell_type": "markdown",
   "metadata": {},
   "source": [
    "### 3) What is pickling and unpickling?\n",
    "\n",
    "- Pickle module accepts any Python object and converts it into a string representation and dumps it into a file by using dump function, this process is called pickling. \n",
    "- While the process of retrieving original Python objects from the stored string representation is called unpickling."
   ]
  },
  {
   "cell_type": "markdown",
   "metadata": {},
   "source": [
    "### 4) How is Python interpreted?\n",
    "\n",
    "- Python language is an interpreted language. \n",
    "- Python program runs directly from the source code. \n",
    "- It converts the source code that is written by the programmer into an intermediate language, which is again translated into machine language that has to be executed."
   ]
  },
  {
   "cell_type": "markdown",
   "metadata": {},
   "source": [
    "### 5) How memory is managed in Python?\n",
    "\n",
    "- Python memory is managed by Python private heap space. \n",
    "- All Python objects and data structures are located in a private heap. \n",
    "- The programmer does not have an access to this private heap and interpreter takes care of this Python private heap.\n",
    "- The allocation of Python heap space for Python objects is done by Python memory manager. The core API gives access to some tools for the programmer to code.\n",
    "- Python also have an inbuilt garbage collector, which recycle all the unused memory and frees the memory and makes it available to the heap space."
   ]
  },
  {
   "cell_type": "markdown",
   "metadata": {},
   "source": [
    "### 6) What are the tools that help to find bugs or perform static analysis?\n",
    "\n",
    "- PyChecker is a static analysis tool that detects the bugs in Python source code and warns about the style and complexity of the bug. \n",
    "- Pylint is another tool that verifies whether the module meets the coding standard."
   ]
  },
  {
   "cell_type": "markdown",
   "metadata": {},
   "source": [
    "### 7) What are Python decorators?\n",
    "\n",
    "A Python decorator is a specific change that we make in Python syntax to alter functions easily."
   ]
  },
  {
   "cell_type": "markdown",
   "metadata": {},
   "source": [
    "### 8) What is the difference between list and tuple?\n",
    "\n",
    "The difference between list and tuple is that list is mutable while tuple is not. Tuple can be hashed for e.g as a key for dictionaries."
   ]
  },
  {
   "cell_type": "markdown",
   "metadata": {},
   "source": [
    "### 9) How are arguments passed by value or by reference?\n",
    "\n",
    "- Everything in Python is an object and all variables hold references to the objects. \n",
    "- The references values are according to the functions; as a result you cannot change the value of the references. - However, you can change the objects if it is mutable."
   ]
  },
  {
   "cell_type": "markdown",
   "metadata": {},
   "source": [
    "### 10) What are Dict and List comprehensions?\n",
    "\n",
    "They are syntax constructions to ease the creation of a Dictionary or List based on existing iterable."
   ]
  },
  {
   "cell_type": "markdown",
   "metadata": {},
   "source": [
    "### 11) What are the built-in type does python provides?\n",
    "\n",
    "There are mutable and Immutable types of Pythons built in types Mutable built-in types\n",
    "- List\n",
    "- Sets\n",
    "- Dictionaries\n",
    "\n",
    "Immutable built-in types\n",
    "- Strings\n",
    "- Tuples\n",
    "- Numbers"
   ]
  },
  {
   "cell_type": "markdown",
   "metadata": {},
   "source": [
    "### 12) What is namespace in Python?\n",
    "\n",
    "- In Python, every name introduced has a place where it lives and can be hooked for. \n",
    "- This is known as namespace. It is like a box where a variable name is mapped to the object placed. \n",
    "- Whenever the variable is searched out, this box will be searched, to get corresponding object."
   ]
  },
  {
   "cell_type": "markdown",
   "metadata": {},
   "source": [
    "### 13) What is lambda in Python?\n",
    "\n",
    "It is a single expression anonymous function often used as inline function."
   ]
  },
  {
   "cell_type": "markdown",
   "metadata": {},
   "source": [
    "### 14) Why lambda forms in python does not have statements?\n",
    "\n",
    "A lambda form in python does not have statements as it is used to make new function object and then return them at runtime.\n",
    "\n"
   ]
  },
  {
   "cell_type": "markdown",
   "metadata": {},
   "source": [
    "### 15) What is pass in Python?\n",
    "\n",
    "Pass means, no-operation Python statement, or in other words it is a place holder in compound statement, where there should be a blank left and nothing has to be written there."
   ]
  },
  {
   "cell_type": "markdown",
   "metadata": {},
   "source": [
    "### 16) In Python what are iterators?\n",
    "\n",
    "In Python, iterators are used to iterate a group of elements, containers like list."
   ]
  },
  {
   "cell_type": "markdown",
   "metadata": {},
   "source": [
    "### 17) What is unittest in Python?\n",
    "\n",
    "A unit testing framework in Python is known as unittest. It supports sharing of setups, automation testing, shutdown code for tests, aggregation of tests into collections etc."
   ]
  },
  {
   "cell_type": "markdown",
   "metadata": {},
   "source": [
    "### 18) In Python what is slicing?\n",
    "\n",
    "A mechanism to select a range of items from sequence types like list, tuple, strings etc. is known as slicing."
   ]
  },
  {
   "cell_type": "markdown",
   "metadata": {},
   "source": [
    "### 19) What are generators in Python?\n",
    "\n",
    "The way of implementing iterators are known as generators. It is a normal function except that it yields expression in the function."
   ]
  },
  {
   "cell_type": "markdown",
   "metadata": {},
   "source": [
    "### 20) What is docstring in Python?\n",
    "\n",
    "A Python documentation string is known as docstring, it is a way of documenting Python functions, modules and classes."
   ]
  },
  {
   "cell_type": "markdown",
   "metadata": {},
   "source": [
    "### 21) How can you copy an object in Python?\n",
    "\n",
    "To copy an object in Python, you can try copy.copy () or copy.deepcopy() for the general case. You cannot copy all objects but most of them."
   ]
  },
  {
   "cell_type": "markdown",
   "metadata": {},
   "source": [
    "### 22) What is negative index in Python?\n",
    "\n",
    "Python sequences can be index in positive and negative numbers. For positive index, 0 is the first index, 1 is the second index and so forth. For negative index, (-1) is the last index and (-2) is the second last index and so forth."
   ]
  },
  {
   "cell_type": "markdown",
   "metadata": {},
   "source": [
    "### 23) How you can convert a number to a string?\n",
    "\n",
    "In order to convert a number into a string, use the inbuilt function str(). If you want a octal or hexadecimal representation, use the inbuilt function oct() or hex()."
   ]
  },
  {
   "cell_type": "markdown",
   "metadata": {},
   "source": [
    "### 24) What is the difference between Xrange and range?\n",
    "\n",
    "Xrange returns the xrange object while range returns the list, and uses the same memory and no matter what the range size is."
   ]
  },
  {
   "cell_type": "markdown",
   "metadata": {},
   "source": [
    "### 25) What is module and package in Python?\n",
    "\n",
    "In Python, module is the way to structure program. Each Python program file is a module, which imports other modules like objects and attributes."
   ]
  },
  {
   "cell_type": "markdown",
   "metadata": {},
   "source": []
  },
  {
   "cell_type": "markdown",
   "metadata": {},
   "source": []
  },
  {
   "cell_type": "markdown",
   "metadata": {},
   "source": []
  },
  {
   "cell_type": "code",
   "execution_count": null,
   "metadata": {},
   "outputs": [],
   "source": []
  }
 ],
 "metadata": {
  "kernelspec": {
   "display_name": "Python 3",
   "language": "python",
   "name": "python3"
  },
  "language_info": {
   "codemirror_mode": {
    "name": "ipython",
    "version": 3
   },
   "file_extension": ".py",
   "mimetype": "text/x-python",
   "name": "python",
   "nbconvert_exporter": "python",
   "pygments_lexer": "ipython3",
   "version": "3.7.6"
  }
 },
 "nbformat": 4,
 "nbformat_minor": 4
}
